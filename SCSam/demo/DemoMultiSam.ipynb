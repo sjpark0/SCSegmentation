{
 "cells": [
  {
   "cell_type": "code",
   "execution_count": 3,
   "id": "6e012e4b-80b7-408b-bf30-fa5f5b104873",
   "metadata": {},
   "outputs": [],
   "source": [
    "import torch\n",
    "from misc import *\n",
    "from pose import *\n",
    "from SCSam import SCSam\n",
    "import cv2\n",
    "import matplotlib.pyplot as plt\n",
    "import numpy as np\n",
    "import time"
   ]
  },
  {
   "cell_type": "code",
   "execution_count": null,
   "id": "6e09e75a-2b34-42c6-a516-b5277bf8e55a",
   "metadata": {},
   "outputs": [
    {
     "name": "stdout",
     "output_type": "stream",
     "text": [
      "mps\n",
      "Cameras 5\n",
      "['000.png', '001.png', '002.png', '004.png', '003.png', '006.png', '005.png', '012.png', '007.png', '014.png', '008.png', '009.png', '011.png', '010.png', '013.png', '015.png']\n",
      "Images # 16\n"
     ]
    }
   ],
   "source": [
    "if torch.cuda.is_available():\n",
    "    device = \"cuda\"\n",
    "elif torch.backends.mps.is_available() and torch.backends.mps.is_built():\n",
    "    device = \"mps\"\n",
    "else:\n",
    "    device = \"cpu\"\n",
    "    \n",
    "print(device)\n",
    "\n",
    "sam = SCSam(device)\n",
    "sam.LoadImage(\"../../Data/Sample1\", 16)"
   ]
  },
  {
   "cell_type": "code",
   "execution_count": 5,
   "id": "681eb195-ed10-4887-baea-de304abf719f",
   "metadata": {},
   "outputs": [
    {
     "name": "stdout",
     "output_type": "stream",
     "text": [
      "(1, 2160, 3840)\n"
     ]
    }
   ],
   "source": [
    "sam.AddPoint(0, [840, 1356], 1)"
   ]
  },
  {
   "cell_type": "code",
   "execution_count": null,
   "id": "8d90f626-1851-4576-9949-6e6b280a6fc9",
   "metadata": {},
   "outputs": [],
   "source": [
    "sam.RunSegmentation()"
   ]
  },
  {
   "cell_type": "code",
   "execution_count": null,
   "id": "0f231783-a458-4582-a9d8-2634700cb48a",
   "metadata": {},
   "outputs": [],
   "source": [
    "plt.imshow(sam.images[0])\n",
    "show_mask(sam.masks[0], plt.gca())\n",
    "show_points(np.array(sam.input_points[0]), np.array(sam.input_labels[0]), plt.gca())\n",
    "plt.axis('on')\n",
    "plt.show()"
   ]
  },
  {
   "cell_type": "code",
   "execution_count": null,
   "id": "2fb9e336-c86d-487c-b984-f8b2605ca7df",
   "metadata": {},
   "outputs": [],
   "source": [
    "sam.AddPoint(0, [753, 968], 1)\n",
    "sam.AddPoint(0, [1383, 1758], 1)"
   ]
  },
  {
   "cell_type": "code",
   "execution_count": null,
   "id": "cf4c774c-c370-41e6-827d-636b94614f6b",
   "metadata": {},
   "outputs": [],
   "source": [
    "plt.imshow(sam.images[0])\n",
    "show_mask(sam.masks[0], plt.gca())\n",
    "show_points(np.array(sam.input_points[0]), np.array(sam.input_labels[0]), plt.gca())\n",
    "plt.axis('on')\n",
    "plt.show()"
   ]
  },
  {
   "cell_type": "code",
   "execution_count": null,
   "id": "62ef306f-566b-4cf7-bdde-d47efd904ebc",
   "metadata": {},
   "outputs": [],
   "source": [
    "sam.RunSegmentation()"
   ]
  },
  {
   "cell_type": "code",
   "execution_count": null,
   "id": "ec4f0536-795a-4e9a-8dc8-dc37441e49c3",
   "metadata": {},
   "outputs": [],
   "source": [
    "plt.imshow(sam.images[0])\n",
    "show_mask(sam.masks[0], plt.gca())\n",
    "show_points(np.array(sam.input_points[0]), np.array(sam.input_labels[0]), plt.gca())\n",
    "plt.axis('on')\n",
    "plt.show()"
   ]
  }
 ],
 "metadata": {
  "kernelspec": {
   "display_name": "Python 3 (ipykernel)",
   "language": "python",
   "name": "python3"
  },
  "language_info": {
   "codemirror_mode": {
    "name": "ipython",
    "version": 3
   },
   "file_extension": ".py",
   "mimetype": "text/x-python",
   "name": "python",
   "nbconvert_exporter": "python",
   "pygments_lexer": "ipython3",
   "version": "3.10.11"
  }
 },
 "nbformat": 4,
 "nbformat_minor": 5
}
